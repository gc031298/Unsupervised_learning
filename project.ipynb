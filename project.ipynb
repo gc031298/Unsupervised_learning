{
 "cells": [
  {
   "cell_type": "code",
   "execution_count": 1,
   "metadata": {},
   "outputs": [],
   "source": [
    "import myfunctions as f\n",
    "import numpy as np\n",
    "from scipy.spatial.distance import cdist\n",
    "from sklearn.neighbors import NearestNeighbors as NN"
   ]
  },
  {
   "cell_type": "code",
   "execution_count": 2,
   "metadata": {},
   "outputs": [],
   "source": [
    "# Functions for point 1\n",
    "\n",
    "def swiss_roll(n):\n",
    "    \"\"\"\n",
    "    Defines the swiss roll dataset\n",
    "    \"\"\"\n",
    "    data = np.zeros((n,3))\n",
    "    phi = np.random.uniform(low=1.5*np.pi, high=4.5*np.pi, size=n)\n",
    "    psi = np.random.uniform(0,10,n)  \n",
    "    data[:,0]=phi*np.cos(phi)\n",
    "    data[:,1]=phi*np.sin(phi)\n",
    "    data[:,2]=psi\n",
    "    return data\n",
    "\n",
    "def nearest_neighbors(data, k):\n",
    "    \"\"\"\n",
    "    Returns the k nearest neighbours of each data point.\n",
    "    Output size: (n,k)\n",
    "    \"\"\"\n",
    "    distance = cdist(data, data, metric='euclidean')\n",
    "    idx_neighbors = np.array([np.argsort(distance[i,:])[1:k+1]for i in range(np.shape(data)[0])]).astype(int)\n",
    "    return idx_neighbors"
   ]
  },
  {
   "cell_type": "code",
   "execution_count": 3,
   "metadata": {},
   "outputs": [],
   "source": [
    "def two_NN(data):\n",
    "    \"\"\"\n",
    "    Given a dataset, returns the intrinsic dimension using 2-nn method.\n",
    "    \"\"\"\n",
    "    neigh = NN(n_neighbors=2).fit(data)\n",
    "    distances, _ = neigh.kneighbors(return_distance=True)\n",
    "    distances = distances[(distances > 1.e-5)[:,0],:]\n",
    "    mu = distances[:,1]/distances[:,0]\n",
    "    return data.shape[0]/np.sum(np.log(mu))\n",
    "\n",
    "\n",
    "def pca(data, n_components):\n",
    "    \"\"\"\n",
    "    Performs PCA on a data set\n",
    "    Input:\n",
    "    - centered data\n",
    "    - dimension of projection space\n",
    "    Output: projected data as a np_array\n",
    "    \"\"\"\n",
    "    if (n_components > np.shape(data)[0]):\n",
    "        raise Exception('Projecting in a space of higher dimension. Decrease n_components.')\n",
    "    \n",
    "    data = data - np.mean(data, axis=0)\n",
    "    \n",
    "    cov = np.dot(data.T, data)\n",
    "    eigenvalues, U = np.linalg.eig(cov)\n",
    "    idx = np.argsort(eigenvalues)[::-1]\n",
    "    new_data = np.dot(data, U[:,idx[0:n_components]])\n",
    "    return new_data"
   ]
  },
  {
   "cell_type": "code",
   "execution_count": 4,
   "metadata": {},
   "outputs": [],
   "source": [
    "# Functions for point 2\n",
    "\n",
    "def compute_delta(data, idx_neighbors):\n",
    "    \"\"\"\n",
    "    Computes delta matrix\n",
    "    \"\"\"\n",
    "    n = np.shape(data)[0]\n",
    "    k = np.shape(idx_neighbors)[1]\n",
    "    delta = np.array([[np.linalg.norm(data[i,:] - data[idx_neighbors][i,j], 2) for j in range(k)] for i in range(n)])\n",
    "    return delta\n",
    "\n",
    "def compute_theta(data, idx_neighbors):\n",
    "    \"\"\"\n",
    "    Computes theta matrix\n",
    "    \"\"\"\n",
    "    n = np.shape(data)[0]\n",
    "    k = np.shape(idx_neighbors)[1]\n",
    "    theta = np.zeros((n,k))\n",
    "    for i in range(n):\n",
    "        for j in range(k):\n",
    "            v1 = data[i,:] - data[idx_neighbors][i,j]\n",
    "            idx = idx_neighbors[i,j]\n",
    "            neighs = data[idx_neighbors[idx]]\n",
    "            for l in range(k):\n",
    "                if idx_neighbors[idx][l] != i:  #controllo per evitare di prendere se stessi come elemento collineare\n",
    "                    v2 = data[idx_neighbors][i,j] - neighs[l]\n",
    "                    angle = np.arccos(np.dot(v1,v2)/(np.linalg.norm(v1)*np.linalg.norm(v2)))\n",
    "                    if angle > theta[i,j]:\n",
    "                        theta[i,j] = angle\n",
    "    return theta"
   ]
  },
  {
   "cell_type": "code",
   "execution_count": 10,
   "metadata": {},
   "outputs": [],
   "source": [
    "class ManifoldSculpting():\n",
    "    \n",
    "    def __init__(self, data, n_neigh: int = 5, d: int = None):\n",
    "        self.data = data\n",
    "        self.n_neigh = n_neigh\n",
    "        self.set_d(d)\n",
    "        \n",
    "        self.idx_neighbors = nearest_neighbors(self.data, self.n_neigh)\n",
    "        self.delta = compute_delta(self.data, self.idx_neighbors)\n",
    "        self.theta = compute_theta(self.data, self.idx_neighbors)\n",
    "        self.mean_delta = np.mean(self.delta)\n",
    "        \n",
    "    def set_d(self, d):\n",
    "        if d is None:\n",
    "            self.d = round(two_NN(self.data))\n",
    "        else:\n",
    "            self.d = d\n",
    "            \n",
    "    def fit():\n",
    "        # TODO\n",
    "        # applica pca\n",
    "        pass"
   ]
  },
  {
   "cell_type": "markdown",
   "metadata": {},
   "source": [
    "## Point 1"
   ]
  },
  {
   "cell_type": "code",
   "execution_count": 17,
   "metadata": {},
   "outputs": [],
   "source": [
    "# Number of datapoints\n",
    "n = 1000\n",
    "\n",
    "# Generate swiss roll data\n",
    "data = swiss_roll(n)\n",
    "\n",
    "# Create Manifold Sculpting object\n",
    "manifold = ManifoldSculpting(data, n_neigh=3, d = n*2)"
   ]
  },
  {
   "cell_type": "code",
   "execution_count": 15,
   "metadata": {},
   "outputs": [
    {
     "name": "stdout",
     "output_type": "stream",
     "text": [
      "(1000, 3)\n",
      "3\n",
      "5\n",
      "(1000, 3)\n",
      "(1000, 3)\n",
      "(1000, 3)\n",
      "()\n"
     ]
    }
   ],
   "source": [
    "print(manifold.data.shape)\n",
    "print(manifold.n_neigh)\n",
    "print(manifold.d)\n",
    "print(manifold.idx_neighbors.shape)\n",
    "print(manifold.delta.shape)\n",
    "print(manifold.theta.shape)\n",
    "print(manifold.mean_delta.shape)"
   ]
  }
 ],
 "metadata": {
  "kernelspec": {
   "display_name": "python",
   "language": "python",
   "name": "python3"
  },
  "language_info": {
   "codemirror_mode": {
    "name": "ipython",
    "version": 3
   },
   "file_extension": ".py",
   "mimetype": "text/x-python",
   "name": "python",
   "nbconvert_exporter": "python",
   "pygments_lexer": "ipython3",
   "version": "3.9.18"
  }
 },
 "nbformat": 4,
 "nbformat_minor": 2
}
